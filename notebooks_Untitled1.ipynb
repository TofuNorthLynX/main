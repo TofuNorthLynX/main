{
  "metadata": {
    "language_info": {
      "codemirror_mode": {
        "name": "python",
        "version": 3
      },
      "file_extension": ".py",
      "mimetype": "text/x-python",
      "name": "python",
      "nbconvert_exporter": "python",
      "pygments_lexer": "ipython3",
      "version": "3.8"
    },
    "kernelspec": {
      "name": "python",
      "display_name": "Python (Pyodide)",
      "language": "python"
    }
  },
  "nbformat_minor": 4,
  "nbformat": 4,
  "cells": [
    {
      "cell_type": "code",
      "source": "import piplite\nawait piplite.",
      "metadata": {
        "trusted": true
      },
      "execution_count": null,
      "outputs": []
    },
    {
      "cell_type": "code",
      "source": "import matplotlib.pyplot as plt\nimport seaborn as sns\nimport pandas as pd\nimport numpy as np\n\ndata = pd.read_csv('mcs_ds_edited_iter_shuffled.csv')\n  \ndf = pd.DataFrame(data)\n  \nX = list(df.iloc[:, 0])\nY = list(df.iloc[:, 4])\n  \nplt.bar(X, Y)\nplt.title(\"trans_range\")\n  \nplt.show()",
      "metadata": {
        "trusted": true
      },
      "execution_count": null,
      "outputs": []
    },
    {
      "cell_type": "code",
      "source": "data = pd.read_csv('mcs_ds_edited_iter_shuffled.csv')\n  \ndf = pd.DataFrame(data)\n  \nX = list(df.iloc[:, 1])\nY = list(df.iloc[:, 4])\n  \nplt.bar(X, Y)\nplt.title(\"trans_range\")\n  \nplt.show()",
      "metadata": {
        "trusted": true
      },
      "execution_count": null,
      "outputs": []
    },
    {
      "cell_type": "code",
      "source": "data = pd.read_csv('mcs_ds_edited_iter_shuffled.csv')\n  \ndf = pd.DataFrame(data)\n  \nX = list(df.iloc[:, 3])\nY = list(df.iloc[:, 4])\n  \nplt.bar(X, Y)\nplt.title(\"iterations\")\n  \nplt.show()",
      "metadata": {
        "trusted": true
      },
      "execution_count": null,
      "outputs": []
    },
    {
      "cell_type": "code",
      "source": "matrix = np.triu(df.corr())\nsns.heatmap(df.corr(), annot=True, mask=matrix)\nplt.show()",
      "metadata": {
        "trusted": true
      },
      "execution_count": null,
      "outputs": []
    },
    {
      "cell_type": "code",
      "source": "%matplotlib inline\n\ndataset = pd.read_csv('mcs_ds_edited_iter_shuffled.csv')\ndataset.shape",
      "metadata": {
        "trusted": true
      },
      "execution_count": null,
      "outputs": []
    },
    {
      "cell_type": "code",
      "source": "dataset.describe()",
      "metadata": {
        "trusted": true
      },
      "execution_count": null,
      "outputs": []
    },
    {
      "cell_type": "code",
      "source": "y = np.array(df['ale'])\nx = np.array(df['anchor_ratio']).reshape(-1, 1)\nmodel = LinearRegression()\nmodel.fit(x, y)\nprint('coef:', model.coef_)\nprint('score', model.score(x, y))\nplt.scatter(df['anchor_ratio'], df['ale'], alpha=0.4)\nplt.plot(x, model.predict(x))\nplt.show()",
      "metadata": {
        "trusted": true
      },
      "execution_count": null,
      "outputs": []
    },
    {
      "cell_type": "code",
      "source": "y = np.array(df['ale'])\nx = np.array(df['trans_range']).reshape(-1, 1)\nmodel = LinearRegression()\nmodel.fit(x, y)\nprint('coef:', model.coef_)\nprint('score', model.score(x, y))\nplt.scatter(df['trans_range'], df['ale'], alpha=0.4)\nplt.plot(x, model.predict(x))\nplt.show()",
      "metadata": {
        "trusted": true
      },
      "execution_count": null,
      "outputs": []
    },
    {
      "cell_type": "code",
      "source": "y = np.array(df['ale'])\nx = np.array(df['node_density']).reshape(-1, 1)\nmodel = LinearRegression()\nmodel.fit(x, y)\nprint('coef:', model.coef_)\nprint('score', model.score(x, y))\nplt.scatter(df['node_density'], df['ale'], alpha=0.4)\nplt.plot(x, model.predict(x))\nplt.show()",
      "metadata": {
        "trusted": true
      },
      "execution_count": null,
      "outputs": []
    },
    {
      "cell_type": "code",
      "source": "y = np.array(df['ale'])\nx = np.array(df['iterations']).reshape(-1, 1)\nmodel = LinearRegression()\nmodel.fit(x, y)\nprint('coef:', model.coef_)\nprint('score', model.score(x, y))\nplt.scatter(df['iterations'], df['ale'], alpha=0.4)\nplt.plot(x, model.predict(x))\nplt.show()",
      "metadata": {
        "trusted": true
      },
      "execution_count": null,
      "outputs": []
    },
    {
      "cell_type": "code",
      "source": "df = pd.read_csv('mcs_ds_edited_iter_shuffled.csv')\nsd = df['ale']\nfeatures = df.drop('ale', axis = 1)\nX_train, X_test, Y_train, Y_test = train_test_split(features,\n                                                    sd, test_size=0.3225, random_state=10)",
      "metadata": {},
      "execution_count": null,
      "outputs": []
    },
    {
      "cell_type": "code",
      "source": "regr = LinearRegression()\nregr.fit(X_train, Y_train)\nprint('Traning data', regr.score(X_train, Y_train))\nprint('Test data', regr.score(X_test, Y_test))",
      "metadata": {},
      "execution_count": null,
      "outputs": []
    },
    {
      "cell_type": "code",
      "source": "print('intercept', regr.intercept_)",
      "metadata": {},
      "execution_count": null,
      "outputs": []
    },
    {
      "cell_type": "code",
      "source": "df.describe()",
      "metadata": {},
      "execution_count": null,
      "outputs": []
    },
    {
      "cell_type": "code",
      "source": "df['ale'].skew()\n\ndf['ale'].min()\n\ny_log = np.log(df['ale'])\ny_log.tail()\nsns.displot(y_log)\nplt.show()\nxx = np.array(df['ale']).reshape(-1, 1)\nmodel2 = LinearRegression()\nmodel2.fit(xx, y_log)\nsd = df['ale']\nfeatures = df.drop('ale', axis = 1)\nX_train, X_test, Y_train, Y_test = train_test_split(features,\n                                                    sd, test_size=0.33, random_state=10)",
      "metadata": {},
      "execution_count": null,
      "outputs": []
    }
  ]
}